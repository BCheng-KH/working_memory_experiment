{
 "cells": [
  {
   "cell_type": "code",
   "execution_count": 1,
   "metadata": {},
   "outputs": [
    {
     "data": {
      "text/plain": [
       "[PhysicalDevice(name='/physical_device:GPU:0', device_type='GPU')]"
      ]
     },
     "execution_count": 1,
     "metadata": {},
     "output_type": "execute_result"
    }
   ],
   "source": [
    "import tensorflow as tf\n",
    "from working_memory_model import WorkingMemoryModel\n",
    "import random\n",
    "from tensorflow.keras import activations, losses\n",
    "tf.config.list_physical_devices('GPU')"
   ]
  },
  {
   "cell_type": "code",
   "execution_count": 2,
   "metadata": {},
   "outputs": [
    {
     "data": {
      "text/plain": [
       "True"
      ]
     },
     "execution_count": 2,
     "metadata": {},
     "output_type": "execute_result"
    }
   ],
   "source": [
    "tf.test.is_built_with_gpu_support()"
   ]
  },
  {
   "cell_type": "code",
   "execution_count": 3,
   "metadata": {},
   "outputs": [],
   "source": [
    "from model_test_functions import training_loop_association, make_association_game"
   ]
  },
  {
   "cell_type": "code",
   "execution_count": 4,
   "metadata": {},
   "outputs": [],
   "source": [
    "num_bits = 5\n",
    "num_comb = 2\n",
    "reserved_combs = [set([3, 4])]"
   ]
  },
  {
   "cell_type": "code",
   "execution_count": 5,
   "metadata": {},
   "outputs": [],
   "source": [
    "model = WorkingMemoryModel([8, 16, 32, 32, 16, num_bits], learning_rate=0.0002, do_initial_relu=False, do_final_sigmoid=True, do_hebbian_learning=True)"
   ]
  },
  {
   "cell_type": "code",
   "execution_count": 6,
   "metadata": {},
   "outputs": [
    {
     "data": {
      "text/plain": [
       "<tensorflow.python.training.tracking.util.CheckpointLoadStatus at 0x2cc2c2f8f70>"
      ]
     },
     "execution_count": 6,
     "metadata": {},
     "output_type": "execute_result"
    }
   ],
   "source": [
    "inputs, label = make_association_game(num_bits, num_comb, gap_length=4)\n",
    "model.empty_build(inputs)\n",
    "model.load_weights(\"checkpoints/testaWORKS_checkpoint.ckpt\")"
   ]
  },
  {
   "cell_type": "code",
   "execution_count": 8,
   "metadata": {},
   "outputs": [
    {
     "name": "stdout",
     "output_type": "stream",
     "text": [
      "tf.Tensor(\n",
      "[[1.         0.         0.         0.         1.         0.        ]\n",
      " [1.         0.         0.         0.         1.         0.        ]\n",
      " [1.         0.         0.         0.         1.         0.        ]\n",
      " [1.         0.         0.         0.         1.         0.        ]\n",
      " [1.         0.         0.         0.         1.         0.        ]\n",
      " [1.         0.         0.         0.         1.         0.        ]\n",
      " [1.         0.         0.         0.         1.         0.        ]\n",
      " [1.         0.         0.         0.         1.         0.        ]\n",
      " [0.29986086 0.23699878 0.7137716  0.5826027  0.9514321  1.        ]\n",
      " [0.80021065 0.27615267 0.07469277 0.17095603 0.02497492 1.        ]\n",
      " [0.62572    0.68116975 0.9421868  0.48736075 0.044423   1.        ]\n",
      " [0.721241   0.28521335 0.16276234 0.03922953 0.22095363 1.        ]\n",
      " [0.5295582  0.5833243  0.17228086 0.09107073 0.84205157 1.        ]\n",
      " [0.20104997 0.03597522 0.7946653  0.83469343 0.9710809  1.        ]\n",
      " [0.32543913 0.55868584 0.77347624 0.14023961 0.14693832 1.        ]\n",
      " [0.8641355  0.05218602 0.8301303  0.1248879  0.7106097  1.        ]\n",
      " [1.         0.         0.         0.         0.         0.        ]\n",
      " [1.         0.         0.         0.         0.         0.        ]\n",
      " [1.         0.         0.         0.         0.         0.        ]\n",
      " [1.         0.         0.         0.         0.         0.        ]\n",
      " [1.         0.         0.         0.         0.         0.        ]\n",
      " [1.         0.         0.         0.         0.         0.        ]\n",
      " [1.         0.         0.         0.         0.         0.        ]\n",
      " [1.         0.         0.         0.         0.         0.        ]], shape=(24, 6), dtype=float32) tf.Tensor(\n",
      "[[0.91 0.07 0.03 0.19 0.96]\n",
      " [0.8  0.21 0.2  0.29 0.55]\n",
      " [0.81 0.25 0.15 0.35 0.75]\n",
      " [0.81 0.26 0.14 0.35 0.77]\n",
      " [0.82 0.27 0.14 0.36 0.77]\n",
      " [0.82 0.27 0.15 0.36 0.76]\n",
      " [0.83 0.28 0.15 0.37 0.76]\n",
      " [0.83 0.28 0.14 0.37 0.64]\n",
      " [0.   0.   0.01 0.   0.  ]\n",
      " [0.07 0.04 0.02 0.04 0.01]\n",
      " [0.02 0.03 0.03 0.03 0.01]\n",
      " [0.03 0.03 0.02 0.03 0.01]\n",
      " [0.03 0.03 0.02 0.04 0.01]\n",
      " [0.02 0.02 0.02 0.03 0.01]\n",
      " [0.03 0.03 0.01 0.03 0.01]\n",
      " [0.02 0.03 0.02 0.03 0.01]\n",
      " [0.89 0.23 0.06 0.38 0.94]\n",
      " [0.81 0.32 0.16 0.41 0.8 ]\n",
      " [0.86 0.32 0.15 0.4  0.75]\n",
      " [0.87 0.32 0.15 0.4  0.74]\n",
      " [0.88 0.33 0.15 0.4  0.72]\n",
      " [0.89 0.33 0.15 0.4  0.7 ]\n",
      " [0.9  0.33 0.15 0.4  0.69]\n",
      " [0.9  0.34 0.15 0.4  0.68]], shape=(24, 5), dtype=float32) tf.Tensor(\n",
      "[[1 0 0 0 1]\n",
      " [1 0 0 0 1]\n",
      " [1 0 0 0 1]\n",
      " [1 0 0 0 1]\n",
      " [1 0 0 0 1]\n",
      " [1 0 0 0 1]\n",
      " [1 0 0 0 1]\n",
      " [1 0 0 0 1]\n",
      " [0 0 0 0 0]\n",
      " [0 0 0 0 0]\n",
      " [0 0 0 0 0]\n",
      " [0 0 0 0 0]\n",
      " [0 0 0 0 0]\n",
      " [0 0 0 0 0]\n",
      " [0 0 0 0 0]\n",
      " [0 0 0 0 0]\n",
      " [1 0 0 0 1]\n",
      " [1 0 0 0 1]\n",
      " [1 0 0 0 1]\n",
      " [1 0 0 0 1]\n",
      " [1 0 0 0 1]\n",
      " [1 0 0 0 1]\n",
      " [1 0 0 0 1]\n",
      " [1 0 0 0 1]], shape=(24, 5), dtype=int32)\n",
      "tf.Tensor(0.044552285, shape=(), dtype=float32)\n"
     ]
    }
   ],
   "source": [
    "model.do_hebbian_learning = True\n",
    "model.reset_memory()\n",
    "print(training_loop_association(model, num_bits, num_comb, gap_length=8, do_comb=[0, 4], do_print=True, do_train=False))"
   ]
  },
  {
   "cell_type": "code",
   "execution_count": 10,
   "metadata": {},
   "outputs": [
    {
     "name": "stdout",
     "output_type": "stream",
     "text": [
      "tf.Tensor(\n",
      "[[1.         0.         0.         0.         1.         0.        ]\n",
      " [1.         0.         0.         0.         1.         0.        ]\n",
      " [1.         0.         0.         0.         1.         0.        ]\n",
      " [1.         0.         0.         0.         1.         0.        ]\n",
      " [1.         0.         0.         0.         1.         0.        ]\n",
      " [1.         0.         0.         0.         1.         0.        ]\n",
      " [1.         0.         0.         0.         1.         0.        ]\n",
      " [1.         0.         0.         0.         1.         0.        ]\n",
      " [0.9760433  0.769687   0.08115333 0.14893506 0.36942095 1.        ]\n",
      " [0.02186404 0.2050889  0.7859766  0.33630416 0.9600518  1.        ]\n",
      " [0.14445497 0.8427351  0.0371385  0.8797066  0.34533948 1.        ]\n",
      " [0.19836691 0.769607   0.8682964  0.5490697  0.8933002  1.        ]\n",
      " [0.18513528 0.4557015  0.15064912 0.72777164 0.9374291  1.        ]\n",
      " [0.6952398  0.5352709  0.24438907 0.23368287 0.01688887 1.        ]\n",
      " [0.5062295  0.56690985 0.8392494  0.459406   0.8946246  1.        ]\n",
      " [0.9056488  0.9852119  0.48240706 0.6515049  0.55817246 1.        ]\n",
      " [1.         0.         0.         0.         0.         0.        ]\n",
      " [1.         0.         0.         0.         0.         0.        ]\n",
      " [1.         0.         0.         0.         0.         0.        ]\n",
      " [1.         0.         0.         0.         0.         0.        ]\n",
      " [1.         0.         0.         0.         0.         0.        ]\n",
      " [1.         0.         0.         0.         0.         0.        ]\n",
      " [1.         0.         0.         0.         0.         0.        ]\n",
      " [1.         0.         0.         0.         0.         0.        ]], shape=(24, 6), dtype=float32) tf.Tensor(\n",
      "[[0.98 0.12 0.04 0.29 0.97]\n",
      " [0.85 0.24 0.6  0.29 0.5 ]\n",
      " [0.84 0.21 0.59 0.28 0.55]\n",
      " [0.84 0.27 0.27 0.34 0.7 ]\n",
      " [0.84 0.29 0.22 0.37 0.74]\n",
      " [0.85 0.31 0.2  0.38 0.75]\n",
      " [0.85 0.31 0.2  0.38 0.75]\n",
      " [0.85 0.31 0.2  0.38 0.75]\n",
      " [0.   0.   0.   0.   0.  ]\n",
      " [0.04 0.03 0.06 0.05 0.02]\n",
      " [0.03 0.06 0.01 0.06 0.02]\n",
      " [0.02 0.03 0.03 0.03 0.01]\n",
      " [0.03 0.04 0.02 0.04 0.01]\n",
      " [0.03 0.03 0.02 0.04 0.01]\n",
      " [0.02 0.03 0.03 0.03 0.01]\n",
      " [0.03 0.04 0.02 0.04 0.01]\n",
      " [0.99 0.28 0.08 0.36 0.57]\n",
      " [0.82 0.36 0.16 0.43 0.81]\n",
      " [0.88 0.33 0.15 0.41 0.72]\n",
      " [0.89 0.33 0.15 0.4  0.7 ]\n",
      " [0.9  0.34 0.15 0.4  0.67]\n",
      " [0.9  0.34 0.15 0.4  0.67]\n",
      " [0.9  0.34 0.15 0.4  0.67]\n",
      " [0.9  0.34 0.15 0.4  0.68]], shape=(24, 5), dtype=float32) tf.Tensor(\n",
      "[[1 0 0 0 1]\n",
      " [1 0 0 0 1]\n",
      " [1 0 0 0 1]\n",
      " [1 0 0 0 1]\n",
      " [1 0 0 0 1]\n",
      " [1 0 0 0 1]\n",
      " [1 0 0 0 1]\n",
      " [1 0 0 0 1]\n",
      " [0 0 0 0 0]\n",
      " [0 0 0 0 0]\n",
      " [0 0 0 0 0]\n",
      " [0 0 0 0 0]\n",
      " [0 0 0 0 0]\n",
      " [0 0 0 0 0]\n",
      " [0 0 0 0 0]\n",
      " [0 0 0 0 0]\n",
      " [1 0 0 0 1]\n",
      " [1 0 0 0 1]\n",
      " [1 0 0 0 1]\n",
      " [1 0 0 0 1]\n",
      " [1 0 0 0 1]\n",
      " [1 0 0 0 1]\n",
      " [1 0 0 0 1]\n",
      " [1 0 0 0 1]], shape=(24, 5), dtype=int32)\n",
      "tf.Tensor(0.055733133, shape=(), dtype=float32)\n"
     ]
    }
   ],
   "source": [
    "model.do_hebbian_learning = False\n",
    "model.reset_memory()\n",
    "print(training_loop_association(model, num_bits, num_comb, gap_length=8, do_comb=[0, 4], do_print=True, do_train=False))"
   ]
  }
 ],
 "metadata": {
  "kernelspec": {
   "display_name": "working_memory_experiment",
   "language": "python",
   "name": "python3"
  },
  "language_info": {
   "codemirror_mode": {
    "name": "ipython",
    "version": 3
   },
   "file_extension": ".py",
   "mimetype": "text/x-python",
   "name": "python",
   "nbconvert_exporter": "python",
   "pygments_lexer": "ipython3",
   "version": "3.9.18"
  }
 },
 "nbformat": 4,
 "nbformat_minor": 2
}
