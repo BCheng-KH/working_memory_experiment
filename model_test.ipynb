{
 "cells": [
  {
   "cell_type": "code",
   "execution_count": 1,
   "metadata": {},
   "outputs": [
    {
     "data": {
      "text/plain": [
       "[PhysicalDevice(name='/physical_device:GPU:0', device_type='GPU')]"
      ]
     },
     "execution_count": 1,
     "metadata": {},
     "output_type": "execute_result"
    }
   ],
   "source": [
    "import tensorflow as tf\n",
    "from working_memory_model import WorkingMemoryModel\n",
    "import random\n",
    "from tensorflow.keras import activations, losses\n",
    "tf.config.list_physical_devices('GPU')"
   ]
  },
  {
   "cell_type": "code",
   "execution_count": 2,
   "metadata": {},
   "outputs": [
    {
     "data": {
      "text/plain": [
       "True"
      ]
     },
     "execution_count": 2,
     "metadata": {},
     "output_type": "execute_result"
    }
   ],
   "source": [
    "tf.test.is_built_with_gpu_support()"
   ]
  },
  {
   "cell_type": "code",
   "execution_count": 3,
   "metadata": {},
   "outputs": [],
   "source": [
    "from model_test_functions import training_loop_association, make_association_game"
   ]
  },
  {
   "cell_type": "code",
   "execution_count": 4,
   "metadata": {},
   "outputs": [],
   "source": [
    "num_bits = 5\n",
    "num_comb = 2\n",
    "reserved_combs = [set([3, 4])]"
   ]
  },
  {
   "cell_type": "code",
   "execution_count": 5,
   "metadata": {},
   "outputs": [],
   "source": [
    "model = WorkingMemoryModel([8, 16, 32, 32, 16, num_bits], learning_rate=0.0002, do_initial_relu=False, do_final_sigmoid=True, do_hebbian_learning=True)"
   ]
  },
  {
   "cell_type": "code",
   "execution_count": 6,
   "metadata": {},
   "outputs": [
    {
     "name": "stdout",
     "output_type": "stream",
     "text": [
      "1 9 0.2496225893497467\n",
      "1 19 0.2477870374917984\n",
      "1 29 0.24575642347335816\n",
      "1 39 0.24402862191200256\n",
      "1 49 0.24358424991369249\n",
      "1 59 0.2394370511174202\n",
      "1 69 0.24039073139429093\n",
      "1 79 0.23661134839057923\n",
      "1 89 0.23594912886619568\n",
      "1 99 0.2349311664700508\n",
      "1 109 0.2318579524755478\n",
      "1 119 0.23045636266469954\n",
      "1 129 0.23127939999103547\n",
      "1 139 0.22866186052560805\n",
      "1 149 0.22527265846729277\n",
      "1 159 0.2287169426679611\n",
      "1 169 0.22801509648561477\n",
      "1 179 0.2279558151960373\n",
      "1 189 0.22400597780942916\n",
      "1 199 0.22755375802516936\n",
      "1 209 0.22044310420751573\n",
      "1 219 0.22193885445594788\n",
      "1 229 0.2266138896346092\n",
      "1 239 0.22341498732566833\n"
     ]
    }
   ],
   "source": [
    "print_sep = 10\n",
    "\n",
    "model.update_learning_rate(0.0005)\n",
    "iters = 10000\n",
    "loss = 0\n",
    "for i in range(iters):\n",
    "    gap_length = random.randrange(6, 9)\n",
    "    loss += float(training_loop_association(model, num_bits, num_comb, gap_length=gap_length, ban_comb=reserved_combs))\n",
    "    if (i+1) % print_sep == 0:\n",
    "        print(1, i, loss/print_sep)\n",
    "        loss = 0\n",
    "model.save_weights(\"checkpoints/testa1_checkpoint.ckpt\")\n",
    "\n",
    "\n",
    "\n"
   ]
  },
  {
   "cell_type": "code",
   "execution_count": null,
   "metadata": {},
   "outputs": [],
   "source": [
    "print_sep = 10\n",
    "\n",
    "model.update_learning_rate(0.0002)\n",
    "iters = 20000\n",
    "loss = 0\n",
    "for i in range(iters):\n",
    "    gap_length = random.randrange(8, 13)\n",
    "    loss += float(training_loop_association(model, num_bits, num_comb, gap_length=gap_length, ban_comb=reserved_combs))\n",
    "    if (i+1) % print_sep == 0:\n",
    "        print(2, i, loss/print_sep)\n",
    "        loss = 0\n",
    "model.save_weights(\"checkpoints/testa2_checkpoint.ckpt\")"
   ]
  },
  {
   "cell_type": "code",
   "execution_count": null,
   "metadata": {},
   "outputs": [],
   "source": [
    "print_sep = 10\n",
    "\n",
    "model.update_learning_rate(0.0001)\n",
    "iters = 20000\n",
    "loss = 0\n",
    "for i in range(iters):\n",
    "    gap_length = random.randrange(12, 19)\n",
    "    loss += float(training_loop_association(model, num_bits, num_comb, gap_length=gap_length, ban_comb=reserved_combs))\n",
    "    if (i+1) % print_sep == 0:\n",
    "        print(3, i, loss/print_sep)\n",
    "        loss = 0\n",
    "model.save_weights(\"checkpoints/testa3_checkpoint.ckpt\")"
   ]
  },
  {
   "cell_type": "code",
   "execution_count": null,
   "metadata": {},
   "outputs": [
    {
     "name": "stdout",
     "output_type": "stream",
     "text": [
      "tf.Tensor(\n",
      "[[0.         1.         0.         1.         0.         0.        ]\n",
      " [0.         1.         0.         1.         0.         0.        ]\n",
      " [0.         1.         0.         1.         0.         0.        ]\n",
      " [0.         1.         0.         1.         0.         0.        ]\n",
      " [0.         1.         0.         1.         0.         0.        ]\n",
      " [0.         1.         0.         1.         0.         0.        ]\n",
      " [0.         1.         0.         1.         0.         0.        ]\n",
      " [0.         1.         0.         1.         0.         0.        ]\n",
      " [0.19501883 0.85006124 0.880332   0.19223347 0.6165452  1.        ]\n",
      " [0.00310924 0.2679704  0.21190816 0.7207948  0.83216214 1.        ]\n",
      " [0.48364595 0.18898124 0.48759508 0.8632275  0.53524876 1.        ]\n",
      " [0.96325105 0.30186686 0.66533905 0.6252739  0.76437634 1.        ]\n",
      " [0.62269336 0.11229911 0.43710333 0.2845461  0.9713798  1.        ]\n",
      " [0.07892009 0.35688958 0.57833004 0.1968443  0.23537217 1.        ]\n",
      " [0.58145535 0.27215368 0.31508553 0.19359636 0.61047286 1.        ]\n",
      " [0.78602165 0.67745596 0.71580565 0.45017314 0.37396136 1.        ]\n",
      " [0.         1.         0.         0.         0.         0.        ]\n",
      " [0.         1.         0.         0.         0.         0.        ]\n",
      " [0.         1.         0.         0.         0.         0.        ]\n",
      " [0.         1.         0.         0.         0.         0.        ]\n",
      " [0.         1.         0.         0.         0.         0.        ]\n",
      " [0.         1.         0.         0.         0.         0.        ]\n",
      " [0.         1.         0.         0.         0.         0.        ]\n",
      " [0.         1.         0.         0.         0.         0.        ]], shape=(24, 6), dtype=float32) tf.Tensor(\n",
      "[[0.02 0.93 0.04 0.67 0.01]\n",
      " [0.21 0.66 0.18 0.53 0.16]\n",
      " [0.15 0.69 0.19 0.54 0.14]\n",
      " [0.14 0.7  0.18 0.55 0.14]\n",
      " [0.14 0.7  0.18 0.55 0.14]\n",
      " [0.15 0.7  0.17 0.55 0.14]\n",
      " [0.15 0.7  0.16 0.55 0.13]\n",
      " [0.15 0.7  0.15 0.54 0.13]\n",
      " [0.01 0.   0.07 0.   0.  ]\n",
      " [0.02 0.05 0.06 0.04 0.01]\n",
      " [0.02 0.03 0.08 0.03 0.01]\n",
      " [0.01 0.02 0.06 0.03 0.01]\n",
      " [0.01 0.02 0.04 0.03 0.01]\n",
      " [0.01 0.02 0.05 0.03 0.01]\n",
      " [0.01 0.03 0.03 0.03 0.01]\n",
      " [0.01 0.02 0.04 0.02 0.01]\n",
      " [0.13 0.74 0.09 0.6  0.14]\n",
      " [0.15 0.69 0.17 0.56 0.14]\n",
      " [0.16 0.68 0.16 0.54 0.14]\n",
      " [0.16 0.68 0.16 0.54 0.13]\n",
      " [0.16 0.68 0.16 0.55 0.13]\n",
      " [0.16 0.68 0.16 0.55 0.13]\n",
      " [0.16 0.68 0.17 0.55 0.13]\n",
      " [0.16 0.69 0.17 0.55 0.13]], shape=(24, 5), dtype=float32) tf.Tensor(\n",
      "[[0 1 0 1 0]\n",
      " [0 1 0 1 0]\n",
      " [0 1 0 1 0]\n",
      " [0 1 0 1 0]\n",
      " [0 1 0 1 0]\n",
      " [0 1 0 1 0]\n",
      " [0 1 0 1 0]\n",
      " [0 1 0 1 0]\n",
      " [0 0 0 0 0]\n",
      " [0 0 0 0 0]\n",
      " [0 0 0 0 0]\n",
      " [0 0 0 0 0]\n",
      " [0 0 0 0 0]\n",
      " [0 0 0 0 0]\n",
      " [0 0 0 0 0]\n",
      " [0 0 0 0 0]\n",
      " [0 1 0 1 0]\n",
      " [0 1 0 1 0]\n",
      " [0 1 0 1 0]\n",
      " [0 1 0 1 0]\n",
      " [0 1 0 1 0]\n",
      " [0 1 0 1 0]\n",
      " [0 1 0 1 0]\n",
      " [0 1 0 1 0]], shape=(24, 5), dtype=int32)\n"
     ]
    },
    {
     "data": {
      "text/plain": [
       "<tf.Tensor: shape=(), dtype=float32, numpy=0.047411297>"
      ]
     },
     "execution_count": 12,
     "metadata": {},
     "output_type": "execute_result"
    }
   ],
   "source": [
    "model.reset_memory()\n",
    "training_loop_association(model, num_bits, num_comb, gap_length=8, do_print=True)"
   ]
  },
  {
   "cell_type": "code",
   "execution_count": null,
   "metadata": {},
   "outputs": [
    {
     "data": {
      "text/plain": [
       "<tensorflow.python.training.tracking.util.CheckpointLoadStatus at 0x251d6074eb0>"
      ]
     },
     "execution_count": 9,
     "metadata": {},
     "output_type": "execute_result"
    }
   ],
   "source": [
    "#model.save_weights(\"checkpoints/testa0_checkpoint.ckpt\")\n",
    "\n",
    "\n",
    "# inputs, label = make_association_game(num_bits, num_comb, gap_length=4)\n",
    "# model.empty_build(inputs)\n",
    "# model.load_weights(\"checkpoints/testaWORKS_checkpoint.ckpt\")"
   ]
  }
 ],
 "metadata": {
  "kernelspec": {
   "display_name": "working_memory_experiment",
   "language": "python",
   "name": "python3"
  },
  "language_info": {
   "codemirror_mode": {
    "name": "ipython",
    "version": 3
   },
   "file_extension": ".py",
   "mimetype": "text/x-python",
   "name": "python",
   "nbconvert_exporter": "python",
   "pygments_lexer": "ipython3",
   "version": "3.9.18"
  }
 },
 "nbformat": 4,
 "nbformat_minor": 2
}
